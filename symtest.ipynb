{
 "cells": [
  {
   "cell_type": "code",
   "execution_count": 9,
   "metadata": {},
   "outputs": [],
   "source": [
    "import numpy as np\n",
    "import cupy as cp\n",
    "import matplotlib.pyplot as plt\n",
    "import h5py as h5\n",
    "import os\n",
    "import fftx\n",
    "import h5py"
   ]
  },
  {
   "cell_type": "code",
   "execution_count": 2,
   "metadata": {},
   "outputs": [
    {
     "name": "stdout",
     "output_type": "stream",
     "text": [
      "[0 1 2 2 3 1 1 2 3]\n",
      "[0 0 0 3 0 2 3 2 1]\n",
      "[0 0 0 2 0 3 2 3 1]\n",
      "[0 0 0 2 0 3 2 3 1]\n"
     ]
    }
   ],
   "source": [
    "import wfnreader \n",
    "import symmetry_maps\n",
    "wfn = wfnreader.WFNReader(\"WFN.h5\")\n",
    "wfn_unf = wfnreader.WFNReader(\"WFN_unfolded.h5\")\n",
    "sym = symmetry_maps.SymMaps(wfn)\n",
    "print(sym.irk_to_k_map)\n",
    "print(sym.irk_sym_map)\n",
    "print(sym.kpoint_map)\n",
    "print(sym.kpoint_map_ibz_ids)\n",
    "#print(sym.kfull_symmap)"
   ]
  },
  {
   "cell_type": "code",
   "execution_count": 18,
   "metadata": {},
   "outputs": [
    {
     "data": {
      "text/plain": [
       "array([[-1,  0,  0],\n",
       "       [-1,  0,  1],\n",
       "       [-1,  0, -1],\n",
       "       ...,\n",
       "       [ 3, -7, -2],\n",
       "       [ 2, -7,  2],\n",
       "       [ 2, -7, -2]], shape=(3576, 3), dtype=int32)"
      ]
     },
     "execution_count": 18,
     "metadata": {},
     "output_type": "execute_result"
    }
   ],
   "source": [
    "sym.get_gvecs_kfull(wfn,8)"
   ]
  },
  {
   "cell_type": "code",
   "execution_count": 10,
   "metadata": {},
   "outputs": [
    {
     "data": {
      "text/plain": [
       "(1, 1, 1, 303, 303, 2)"
      ]
     },
     "execution_count": 10,
     "metadata": {},
     "output_type": "execute_result"
    }
   ],
   "source": [
    "h5py.File('eps0mat.h5','r')['mats/matrix'].shape"
   ]
  },
  {
   "cell_type": "code",
   "execution_count": 5,
   "metadata": {},
   "outputs": [
    {
     "data": {
      "text/plain": [
       "62500"
      ]
     },
     "execution_count": 5,
     "metadata": {},
     "output_type": "execute_result"
    }
   ],
   "source": [
    "25*25*100"
   ]
  },
  {
   "cell_type": "code",
   "execution_count": null,
   "metadata": {},
   "outputs": [],
   "source": [
    "fftbox = np.zeros((2,*wfn.fft_grid),dtype=np.complex128)\n",
    "sym.get_cnk_fullzone_to_box(wfn,25,5,fftbox)\n",
    "\n"
   ]
  },
  {
   "cell_type": "code",
   "execution_count": 4,
   "metadata": {},
   "outputs": [
    {
     "name": "stdout",
     "output_type": "stream",
     "text": [
      " \n",
      "[0. 0. 0.]\n",
      "[0. 0. 0.]\n",
      "[0. 0. 0.]\n",
      " \n",
      "[0.         0.33333333 0.        ]\n",
      "[0.         0.33333333 0.        ]\n",
      "[0.         0.33333333 0.        ]\n",
      " \n",
      "[0.         0.66666667 0.        ]\n",
      "[0.         0.66666667 0.        ]\n",
      "[0.         0.66666667 0.        ]\n",
      " \n",
      "[0.         0.66666667 0.        ]\n",
      "[0.33333333 0.         0.        ]\n",
      "[0.33333333 0.         0.        ]\n",
      " \n",
      "[0.33333333 0.33333333 0.        ]\n",
      "[0.33333333 0.33333333 0.        ]\n",
      "[0.33333333 0.33333333 0.        ]\n",
      " \n",
      "[0.         0.33333333 0.        ]\n",
      "[0.33333333 0.66666667 0.        ]\n",
      "[0.33333333 0.66666667 0.        ]\n",
      " \n",
      "[0.         0.33333333 0.        ]\n",
      "[0.66666667 0.         0.        ]\n",
      "[0.66666667 0.         0.        ]\n",
      " \n",
      "[0.         0.66666667 0.        ]\n",
      "[0.66666667 0.33333333 0.        ]\n",
      "[0.66666667 0.33333333 0.        ]\n",
      " \n",
      "[0.33333333 0.33333333 0.        ]\n",
      "[0.66666667 0.66666667 0.        ]\n",
      "[0.66666667 0.66666667 0.        ]\n"
     ]
    }
   ],
   "source": [
    "\n",
    "for i in range(9):\n",
    "    print(\" \")\n",
    "    print(wfn.kpoints[sym.irk_to_k_map[i]])\n",
    "    print((sym.sym_mats_k[sym.irk_sym_map[i]] @ wfn.kpoints[sym.irk_to_k_map[i]])%1.0)\n",
    "    print(sym.unfolded_kpts[i])\n"
   ]
  },
  {
   "cell_type": "code",
   "execution_count": 93,
   "metadata": {},
   "outputs": [
    {
     "name": "stdout",
     "output_type": "stream",
     "text": [
      "[0.         0.66666667 0.        ]\n",
      "[3.33333333e-01 6.11095340e-17 0.00000000e+00]\n",
      "[0 1 0]\n"
     ]
    }
   ],
   "source": [
    "# psi_kbar from OG wfn file\n",
    "print(wfn.kpoints[2])\n",
    "wfn_kbarG = wfn.get_cnk(2,26)\n",
    "kbar_gvecs = wfn.get_gvec_nk(2)\n",
    "wfn_kbarGgrid = np.zeros((2,*wfn.fft_grid),dtype=np.complex128)\n",
    "for ispin in range(2):\n",
    "    wfn_kbarGgrid[ispin,kbar_gvecs[:,0],kbar_gvecs[:,1],kbar_gvecs[:,2]] = wfn_kbarG[ispin]\n",
    "\n",
    "# psi_k unfolded from auxiliary file\n",
    "print(wfn_unf.kpoints[4])\n",
    "wfn_kG = wfn_unf.get_cnk(4,26)\n",
    "k_gvecs = wfn_unf.get_gvec_nk(4)\n",
    "# Sinv[8] @ kbar = k - Gs\n",
    "Gkk = (wfn.kpoints[2] - sym_list[3] @ wfn_unf.kpoints[4]).astype(int)\n",
    "print(Gkk)\n",
    "k_gvecs_rot = np.einsum('ij,kj->ki', sym_list[3], k_gvecs) # kgrid.x says sym 9 maps k to kbar\n",
    "#k_gvecs_rot += Gkk\n",
    "\n",
    "#wfn_kG = np.einsum('jk,kl->jl', sym.U_spinor[8], wfn_kG)\n",
    "wfn_kGgrid = np.zeros((2,*wfn.fft_grid),dtype=np.complex128)\n",
    "for ispin in range(2):\n",
    "    wfn_kGgrid[ispin,k_gvecs_rot[:,0],k_gvecs_rot[:,1],k_gvecs_rot[:,2]] = wfn_kG[ispin]"
   ]
  },
  {
   "cell_type": "code",
   "execution_count": 59,
   "metadata": {},
   "outputs": [
    {
     "name": "stdout",
     "output_type": "stream",
     "text": [
      "[0.04894177 0.04910857]\n",
      "[6.93272778e-02 1.91431198e-06]\n"
     ]
    }
   ],
   "source": [
    "print(np.abs(wfn_kbarGgrid[:,0,0,0]))\n",
    "print(np.abs(wfn_kGgrid[:,0,0,0]))\n",
    "\n"
   ]
  },
  {
   "cell_type": "code",
   "execution_count": 5,
   "metadata": {},
   "outputs": [],
   "source": [
    "def check_vectors_equivalent(arr1, arr2, tol=1e-4):\n",
    "    \"\"\"\n",
    "    Check if two arrays contain the same vectors up to reordering and numerical precision.\n",
    "    \n",
    "    Args:\n",
    "        arr1: numpy array of shape (n,3)\n",
    "        arr2: numpy array of shape (n,3)\n",
    "        tol: tolerance for numerical comparison (default 1e-8)\n",
    "    \n",
    "    Returns:\n",
    "        bool: True if arrays contain same vectors, False otherwise\n",
    "    \"\"\"\n",
    "    if arr1.shape != arr2.shape:\n",
    "        return False\n",
    "    \n",
    "    # Compute all pairwise differences\n",
    "    diffs = np.abs(arr1[:, None] - arr2)  # Shape: (n,n,3)\n",
    "    # Sum over vector components\n",
    "    diffs = np.sum(diffs, axis=2)  # Shape: (n,n)\n",
    "    # Find minimum difference for each vector in arr1\n",
    "    min_diffs = np.min(diffs, axis=1)\n",
    "    \n",
    "    # Check if all vectors in arr1 have a match in arr2\n",
    "    return np.all(min_diffs < tol)\n",
    "\n",
    "# Example usage:\n",
    "# vectors1 = np.array([[1,0,0], [0,1,0], [0,0,1]])\n",
    "# vectors2 = np.array([[0,0,1], [1,0,0], [0,1,0]])\n",
    "# are_equal = check_vectors_equivalent(vectors1, vectors2)"
   ]
  },
  {
   "cell_type": "code",
   "execution_count": 8,
   "metadata": {},
   "outputs": [
    {
     "name": "stdout",
     "output_type": "stream",
     "text": [
      "True\n",
      "True\n",
      "True\n",
      "True\n",
      "True\n",
      "True\n",
      "True\n",
      "True\n",
      "True\n",
      "True\n",
      "True\n",
      "True\n"
     ]
    }
   ],
   "source": [
    "np.set_printoptions(suppress=True,precision=4)\n",
    "for i in range(12):\n",
    "    pos1 = np.einsum('ij,kj->ki',wfn.sym_matrices[i],wfn.atom_crys)%1.0\n",
    "    pos2 = wfn.atom_crys%1.0\n",
    "    print(check_vectors_equivalent(pos1,pos2))"
   ]
  },
  {
   "cell_type": "code",
   "execution_count": 136,
   "metadata": {},
   "outputs": [
    {
     "data": {
      "text/plain": [
       "array([[ 0.    ,  0.    ,  0.    ],\n",
       "       [ 0.    ,  0.    , -0.2639],\n",
       "       [ 0.    ,  0.    ,  0.2639]])"
      ]
     },
     "execution_count": 136,
     "metadata": {},
     "output_type": "execute_result"
    }
   ],
   "source": [
    "np.einsum('ij,kj->ki',wfn.sym_matrices[6],wfn.atom_crys) - wfn.atom_crys"
   ]
  },
  {
   "cell_type": "code",
   "execution_count": 9,
   "metadata": {},
   "outputs": [
    {
     "name": "stdout",
     "output_type": "stream",
     "text": [
      "[0.3333 0.3333 0.    ]\n",
      "[0.3333 0.3333 0.    ]\n",
      "[0.6667 0.6667 0.    ]\n",
      "[0.3333 0.3333 0.    ]\n",
      "[0.3333 0.3333 0.    ]\n",
      "[0.6667 0.6667 0.    ]\n",
      "[0.6667 0.6667 0.    ]\n",
      "[0.3333 0.3333 0.    ]\n",
      "[0.6667 0.6667 0.    ]\n",
      "[0.3333 0.3333 0.    ]\n",
      "[0.3333 0.3333 0.    ]\n",
      "[0.6667 0.6667 0.    ]\n",
      "[0.6667 0.6667 0.    ]\n",
      "[0.6667 0.6667 0.    ]\n"
     ]
    }
   ],
   "source": [
    "print(wfn_unf.kpoints[3])\n",
    "for i in range(12):\n",
    "    print((wfn.sym_matrices[i].T @ wfn_unf.kpoints[3]) % 1.0)\n",
    "print(wfn_unf.kpoints[5])"
   ]
  },
  {
   "cell_type": "code",
   "execution_count": 29,
   "metadata": {},
   "outputs": [],
   "source": [
    "def unfold_wfnkbar_by_sym(wfn,sym_mat,kbar_id,k_id,band_id):\n",
    "    # sym_id: index of sym in wfn.sym_matrices\n",
    "    # kbar_id: index of kbar in wfn.kpoints FULL ZONE ID\n",
    "    # k_id: index of k in wfn.kpoints (should eventually be in sym.unfolded_kpts)\n",
    "    # band_id: index of band to rotate, should eventually do all at that kpt\n",
    "    # relationship: u_n({S|v}.T kbar) (G) = u_nkbar({S|v}.T G - G_S), apparently..\n",
    "    wfn_kG = wfn.get_cnk(kbar_id,band_id)\n",
    "    k_gvecs = wfn.get_gvec_nk(kbar_id)\n",
    "    sym_krep = sym_mat # note we apply with no changes\n",
    "    \n",
    "    q_full = sym_krep @ wfn.kpoints[kbar_id] #+ 0.001\n",
    "    q_inzone = q_full%1.0\n",
    "    q_inzone[q_inzone>0.9999] = 0.0\n",
    "    Gkk = q_inzone - q_full\n",
    "    #print(f'Gkk, should be integer only: {Gkk}')\n",
    "    Gkk = Gkk.astype(int) \n",
    "    k_gvecs_rot = np.einsum('ij,kj->ki', sym_krep.astype(np.int32), k_gvecs) # kgrid.x says sym 9 maps k to kbar\n",
    "    k_gvecs_rot -= Gkk\n",
    "    #wfn_kG = np.einsum('jk,kl->jl', sym.U_spinor[sym_id], wfn_kG)\n",
    "    wfn_kGgrid = np.zeros((2,*wfn.fft_grid),dtype=np.complex128)\n",
    "    for ispin in range(2):\n",
    "        wfn_kGgrid[ispin,k_gvecs_rot[:,0],k_gvecs_rot[:,1],k_gvecs_rot[:,2]] = wfn_kG[ispin]\n",
    "    return wfn_kGgrid\n",
    "\n",
    "\n",
    "# sym convention: in kgrid.log, sym (isym) maps kpt (ikbar) to kpt (ik). end of story\n",
    "# problem being that the syms in kgrid.log are scrambled relative to the syms in WFN.h5"
   ]
  },
  {
   "cell_type": "code",
   "execution_count": 30,
   "metadata": {},
   "outputs": [],
   "source": [
    "# kgrid.log: kpt 5 (0.67,0.67,0) maps to kpt 3 (0.33,0.33,0) by sym 2\n",
    "wfn_k5og = wfn_unf.get_cnk(5,25)\n",
    "wfn_k5gvec = wfn_unf.get_gvec_nk(5)\n",
    "wfn_k5oggrid = np.zeros((2,*wfn_unf.fft_grid),dtype=np.complex128)\n",
    "for ispin in range(2):\n",
    "    wfn_k5oggrid[ispin,wfn_k5gvec[:,0],wfn_k5gvec[:,1],wfn_k5gvec[:,2]] = wfn_k5og[ispin]\n"
   ]
  },
  {
   "cell_type": "code",
   "execution_count": 31,
   "metadata": {},
   "outputs": [
    {
     "name": "stdout",
     "output_type": "stream",
     "text": [
      "Sk: [0.3333 0.3333 0.    ], c_nSk(1:4): [0.022  0.0817 0.0231 0.0048]\n",
      "Sk: [0.6667 0.6667 0.    ], c_nSk(1:4): [0.2063 0.0335 0.0114 0.0014]\n",
      "Sk: [0.3333 0.3333 0.    ], c_nSk(1:4): [0.022  0.0817 0.0231 0.0048]\n",
      "Sk: [0.3333 0.3333 0.    ], c_nSk(1:4): [0.022  0.0817 0.0231 0.0048]\n",
      "Sk: [0.6667 0.6667 0.    ], c_nSk(1:4): [0.2063 0.0335 0.0114 0.0014]\n",
      "Sk: [0.6667 0.6667 0.    ], c_nSk(1:4): [0.2063 0.0335 0.0114 0.0014]\n",
      "Sk: [0.3333 0.3333 0.    ], c_nSk(1:4): [0.022  0.0817 0.0231 0.0048]\n",
      "Sk: [0.6667 0.6667 0.    ], c_nSk(1:4): [0.2063 0.0335 0.0114 0.0014]\n",
      "Sk: [0.3333 0.3333 0.    ], c_nSk(1:4): [0.022  0.0817 0.0231 0.0048]\n",
      "Sk: [0.3333 0.3333 0.    ], c_nSk(1:4): [0.022  0.0817 0.0231 0.0048]\n",
      "Sk: [0.6667 0.6667 0.    ], c_nSk(1:4): [0.2063 0.0335 0.0114 0.0014]\n",
      "Sk: [0.6667 0.6667 0.    ], c_nSk(1:4): [0.2063 0.0335 0.0114 0.0014]\n",
      "true Sk: [0.6667 0.6667 0.    ], true c_nSk [0.2063 0.0335 0.0114 0.0014]\n"
     ]
    }
   ],
   "source": [
    "# only k values in this little group should be (0.33,0.33,0) and (0.67,0.67,0)\n",
    "\n",
    "for i in range(12):\n",
    "    sym_mat = wfn.sym_matrices[i].T\n",
    "    wfn_k5unf = unfold_wfnkbar_by_sym(wfn_unf,sym_mat,3,5,25)\n",
    "    print(f\"Sk: {(sym_mat @ wfn_unf.kpoints[3]) % 1.0}, c_nSk(1:4): {np.abs(wfn_k5unf[1,0,:4,0])+np.abs(wfn_k5unf[0,0,:4,0])}\")\n",
    "print(f\"true Sk: {wfn_unf.kpoints[5]}, true c_nSk {np.abs(wfn_k5oggrid[0,0,:4,0])+np.abs(wfn_k5oggrid[1,0,:4,0])}\")"
   ]
  }
 ],
 "metadata": {
  "kernelspec": {
   "display_name": "Python 3",
   "language": "python",
   "name": "python3"
  },
  "language_info": {
   "codemirror_mode": {
    "name": "ipython",
    "version": 3
   },
   "file_extension": ".py",
   "mimetype": "text/x-python",
   "name": "python",
   "nbconvert_exporter": "python",
   "pygments_lexer": "ipython3",
   "version": "3.12.8"
  }
 },
 "nbformat": 4,
 "nbformat_minor": 2
}
